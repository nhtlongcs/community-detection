{
 "cells": [
  {
   "attachments": {},
   "cell_type": "markdown",
   "metadata": {},
   "source": [
    "# Constructed Graph"
   ]
  },
  {
   "cell_type": "code",
   "execution_count": 1,
   "metadata": {},
   "outputs": [],
   "source": [
    "from tqdm import tqdm\n",
    "import networkx as nx\n",
    "from networkx.algorithms.community.centrality import girvan_newman\n",
    "import pandas as pd \n",
    "from itertools import islice\n",
    "# Create a graph from text file \n",
    "# user_id, user_id\n"
   ]
  },
  {
   "cell_type": "code",
   "execution_count": 2,
   "metadata": {},
   "outputs": [],
   "source": [
    "df = pd.read_csv('../data/ub_sample_data.csv')\n",
    "# random_ids = df.user_id.sample(100).unique()\n",
    "# df = df[df.user_id.isin(random_ids)]"
   ]
  },
  {
   "cell_type": "code",
   "execution_count": 3,
   "metadata": {},
   "outputs": [],
   "source": [
    "G = nx.Graph()"
   ]
  },
  {
   "cell_type": "code",
   "execution_count": 4,
   "metadata": {},
   "outputs": [
    {
     "name": "stderr",
     "output_type": "stream",
     "text": [
      "100%|██████████| 3374/3374 [00:18<00:00, 178.48it/s]\n"
     ]
    }
   ],
   "source": [
    "usr_ids = df.user_id.unique()\n",
    "business_dict = {}\n",
    "for u in tqdm(usr_ids):\n",
    "    business_u = set(df[df.user_id == u].business_id.unique())\n",
    "    business_dict[u] = business_u"
   ]
  },
  {
   "cell_type": "code",
   "execution_count": 5,
   "metadata": {},
   "outputs": [
    {
     "name": "stderr",
     "output_type": "stream",
     "text": [
      "100%|██████████| 3374/3374 [00:50<00:00, 67.06it/s]\n"
     ]
    }
   ],
   "source": [
    "usr_ids = df.user_id.unique()\n",
    "edge_threshold = 7\n",
    "for u in tqdm(usr_ids):\n",
    "    for v in tqdm(usr_ids, leave=False):\n",
    "        if u != v:\n",
    "            business_u = business_dict[u]\n",
    "            business_v = business_dict[v]\n",
    "            if len(business_u.intersection(business_v)) >= edge_threshold:\n",
    "                G.add_edge(u, v)\n",
    "        else:\n",
    "            # if u == v, business cannot be reviewed by the same user\n",
    "            # G.add_node(u)\n",
    "            pass"
   ]
  },
  {
   "cell_type": "code",
   "execution_count": 6,
   "metadata": {},
   "outputs": [
    {
     "data": {
      "text/plain": [
       "(222, 498)"
      ]
     },
     "execution_count": 6,
     "metadata": {},
     "output_type": "execute_result"
    }
   ],
   "source": [
    "len(G.nodes), len(G.edges)"
   ]
  },
  {
   "attachments": {},
   "cell_type": "markdown",
   "metadata": {},
   "source": [
    "# Caculate betweeness centrality of original graph"
   ]
  },
  {
   "cell_type": "code",
   "execution_count": 7,
   "metadata": {},
   "outputs": [
    {
     "data": {
      "text/plain": [
       "[(('cyuDrrG5eEK-TZI867MUPA', 'l-1cva9rA8_ugLrtSdKAqA'), 0.17259793730381964),\n",
       " (('1st2ltGKJ00ZcRsev-Ieew', 'DKolrsBSwMTpTJL22dqJRQ'), 0.1625081448610863),\n",
       " (('1st2ltGKJ00ZcRsev-Ieew', 'HLY9oDcVBH9D25lU4X_V5Q'), 0.15722962781786312),\n",
       " (('1st2ltGKJ00ZcRsev-Ieew', 'Hv_q_ZnSIoZwdcoH0CyV2Q'), 0.15180791651379885),\n",
       " (('1st2ltGKJ00ZcRsev-Ieew', 'JM0GL6Dx4EuZ1mprLk5Gyg'), 0.14958675546910816)]"
      ]
     },
     "execution_count": 7,
     "metadata": {},
     "output_type": "execute_result"
    }
   ],
   "source": [
    "result = nx.edge_betweenness_centrality(G)\n",
    "result = sorted(result.items(), key=lambda x: x[1], reverse=True)\n",
    "def sort_by_lexicographical_order(edge):\n",
    "    return tuple(sorted(edge))\n",
    "result = [(sort_by_lexicographical_order(edge[0]), edge[1]) for edge in result]\n",
    "result[:5]"
   ]
  },
  {
   "cell_type": "code",
   "execution_count": 8,
   "metadata": {},
   "outputs": [
    {
     "name": "stdout",
     "output_type": "stream",
     "text": [
      "(cyuDrrG5eEK-TZI867MUPA,l-1cva9rA8_ugLrtSdKAqA),0.17259793730381964\n",
      "(1st2ltGKJ00ZcRsev-Ieew,DKolrsBSwMTpTJL22dqJRQ),0.1625081448610863\n",
      "(1st2ltGKJ00ZcRsev-Ieew,HLY9oDcVBH9D25lU4X_V5Q),0.15722962781786312\n",
      "(1st2ltGKJ00ZcRsev-Ieew,Hv_q_ZnSIoZwdcoH0CyV2Q),0.15180791651379885\n",
      "(1st2ltGKJ00ZcRsev-Ieew,JM0GL6Dx4EuZ1mprLk5Gyg),0.14958675546910816\n",
      "(HLY9oDcVBH9D25lU4X_V5Q,l-1cva9rA8_ugLrtSdKAqA),0.1359504300680771\n",
      "(Hv_q_ZnSIoZwdcoH0CyV2Q,l-1cva9rA8_ugLrtSdKAqA),0.13407525172231055\n",
      "(0FVcoJko1kfZCrJRfssfIA,DKolrsBSwMTpTJL22dqJRQ),0.09035984963113673\n",
      "(a48HhwcmjFLApZhiax41IA,o-t-i7nbT5N_cmkCXs5oDQ),0.08026578614813909\n",
      "(A-U-K9z9oraMH7eBZW1dOA,l-1cva9rA8_ugLrtSdKAqA),0.07737148913619502\n"
     ]
    }
   ],
   "source": [
    "with open('edge_betweenness_centrality.txt', 'w') as f:\n",
    "    for item in result:\n",
    "        f.write(f'({item[0][0]},{item[0][1]}),{item[1]}')\n",
    "        f.write('\\n')\n",
    "    f.close()\n",
    "!head edge_betweenness_centrality.txt"
   ]
  },
  {
   "attachments": {},
   "cell_type": "markdown",
   "metadata": {},
   "source": [
    "# Community Detection"
   ]
  },
  {
   "cell_type": "code",
   "execution_count": 9,
   "metadata": {},
   "outputs": [],
   "source": [
    "import time "
   ]
  },
  {
   "cell_type": "code",
   "execution_count": 10,
   "metadata": {},
   "outputs": [
    {
     "data": {
      "text/plain": [
       "0.5247012144965406"
      ]
     },
     "execution_count": 10,
     "metadata": {},
     "output_type": "execute_result"
    }
   ],
   "source": [
    "comp = girvan_newman(G)\n",
    "c = next(comp)\n",
    "nx.algorithms.community.modularity(G, c)   "
   ]
  },
  {
   "cell_type": "code",
   "execution_count": 11,
   "metadata": {},
   "outputs": [
    {
     "name": "stdout",
     "output_type": "stream",
     "text": [
      "iter: 1, modularity: 0.5247012144965406, time: 0.9725151062011719\n",
      "iter: 2, modularity: 0.6249032273673009, time: 0.8436574935913086\n",
      "iter: 3, modularity: 0.6490742084805088, time: 0.07246017456054688\n",
      "iter: 4, modularity: 0.6527394719440013, time: 0.2017812728881836\n",
      "iter: 5, modularity: 0.6823277043918646, time: 0.16826438903808594\n",
      "iter: 6, modularity: 0.6872550442734795, time: 0.18161344528198242\n",
      "iter: 7, modularity: 0.6782713182045451, time: 0.7283084392547607\n",
      "iter: 8, modularity: 0.6806079740649345, time: 0.15972065925598145\n",
      "iter: 9, modularity: 0.6814063482847051, time: 0.34764647483825684\n",
      "iter: 10, modularity: 0.6787451008854696, time: 0.1929771900177002\n",
      "iter: 11, modularity: 0.6624711698198417, time: 1.2160530090332031\n",
      "iter: 12, modularity: 0.6536386509895002, time: 0.1643531322479248\n",
      "iter: 13, modularity: 0.6521931097885519, time: 0.12196612358093262\n",
      "iter: 14, modularity: 0.6508463573168175, time: 0.026311874389648438\n",
      "iter: 15, modularity: 0.6493988000193546, time: 0.019788265228271484\n",
      "iter: 16, modularity: 0.647949226625377, time: 0.019448280334472656\n",
      "iter: 17, modularity: 0.646497637134885, time: 0.019707918167114258\n",
      "iter: 18, modularity: 0.6450440315478783, time: 0.05568861961364746\n",
      "iter: 19, modularity: 0.643588409864357, time: 0.018980741500854492\n",
      "iter: 20, modularity: 0.6421307720843211, time: 0.01986551284790039\n",
      "iter: 21, modularity: 0.6368485992161416, time: 0.08984637260437012\n",
      "iter: 22, modularity: 0.6339776777793906, time: 0.1771378517150879\n",
      "iter: 23, modularity: 0.6324837502620926, time: 0.016929149627685547\n",
      "iter: 24, modularity: 0.6309878066482798, time: 0.01723456382751465\n",
      "iter: 25, modularity: 0.6294898469379525, time: 0.016915559768676758\n",
      "iter: 26, modularity: 0.6277963258657118, time: 0.017117738723754883\n",
      "iter: 27, modularity: 0.62629635005887, time: 0.017560243606567383\n",
      "iter: 28, modularity: 0.6247943581555135, time: 0.01752185821533203\n",
      "iter: 29, modularity: 0.6231209980484185, time: 0.02209019660949707\n",
      "iter: 30, modularity: 0.6215968290834017, time: 0.01679539680480957\n",
      "iter: 31, modularity: 0.6201270947242784, time: 0.01599264144897461\n",
      "iter: 32, modularity: 0.6184335736520377, time: 0.015795469284057617\n",
      "iter: 33, modularity: 0.6150525797970998, time: 0.030446529388427734\n",
      "iter: 34, modularity: 0.6131997871002078, time: 0.016157865524291992\n",
      "iter: 35, modularity: 0.6114941694488797, time: 0.015534400939941406\n",
      "iter: 36, modularity: 0.6099054853953967, time: 0.015625\n",
      "iter: 37, modularity: 0.6073893969452104, time: 0.029865026473999023\n",
      "iter: 38, modularity: 0.6001919323881871, time: 0.059211015701293945\n",
      "iter: 39, modularity: 0.5971677876163286, time: 0.03860020637512207\n",
      "iter: 40, modularity: 0.595308946629893, time: 0.02718973159790039\n",
      "iter: 41, modularity: 0.5904017677134239, time: 0.22728490829467773\n",
      "iter: 42, modularity: 0.5886840534830082, time: 0.05861783027648926\n",
      "iter: 43, modularity: 0.5868191642070288, time: 0.030737638473510742\n",
      "iter: 44, modularity: 0.5849522588345348, time: 0.031675100326538086\n",
      "iter: 45, modularity: 0.58240592893663, time: 0.05471539497375488\n",
      "iter: 46, modularity: 0.5798414541700939, time: 0.05035686492919922\n",
      "iter: 47, modularity: 0.5779725327010854, time: 0.021888017654418945\n",
      "iter: 48, modularity: 0.5753899130659181, time: 0.04189348220825195\n",
      "iter: 49, modularity: 0.573518975500395, time: 0.023024797439575195\n",
      "iter: 50, modularity: 0.5716460218383573, time: 0.04116535186767578\n",
      "iter: 51, modularity: 0.5684686537313913, time: 0.05002784729003906\n",
      "iter: 52, modularity: 0.566593683972839, time: 0.013610601425170898\n",
      "iter: 53, modularity: 0.5639929194690407, time: 0.038919925689697266\n",
      "iter: 54, modularity: 0.5621159336139738, time: 0.023453235626220703\n",
      "iter: 55, modularity: 0.560210722407703, time: 0.022848129272460938\n",
      "iter: 56, modularity: 0.5583317204561214, time: 0.022763967514038086\n",
      "iter: 57, modularity: 0.5564970726278606, time: 0.022507905960083008\n",
      "iter: 58, modularity: 0.554557587780842, time: 0.02278733253479004\n",
      "iter: 59, modularity: 0.552549555652328, time: 0.04299664497375488\n",
      "iter: 60, modularity: 0.550791519491621, time: 0.042951345443725586\n",
      "iter: 61, modularity: 0.548868163416719, time: 0.024430513381958008\n",
      "iter: 62, modularity: 0.5469569039209043, time: 0.024837255477905273\n",
      "iter: 63, modularity: 0.543936791342075, time: 0.046456336975097656\n",
      "iter: 64, modularity: 0.5419952903985418, time: 0.023962020874023438\n",
      "iter: 65, modularity: 0.5378260028064061, time: 0.06673407554626465\n",
      "iter: 66, modularity: 0.535940952565281, time: 0.02298450469970703\n",
      "iter: 67, modularity: 0.5340155803938644, time: 0.02324199676513672\n",
      "iter: 68, modularity: 0.5321385945387975, time: 0.024342775344848633\n",
      "iter: 69, modularity: 0.5301950774987497, time: 0.023593664169311523\n",
      "iter: 70, modularity: 0.5283523652844305, time: 0.022990703582763672\n",
      "iter: 71, modularity: 0.5237012306253122, time: 0.060259342193603516\n",
      "iter: 72, modularity: 0.5205924097998416, time: 0.060442447662353516\n",
      "iter: 73, modularity: 0.5178706795051689, time: 0.07082414627075195\n",
      "iter: 74, modularity: 0.5157094240415473, time: 0.050139665603637695\n",
      "iter: 75, modularity: 0.5138223577039076, time: 0.02633833885192871\n",
      "iter: 76, modularity: 0.5118949694359763, time: 0.026704072952270508\n",
      "iter: 77, modularity: 0.5099312914307829, time: 0.026170730590820312\n",
      "iter: 78, modularity: 0.5080039031628517, time: 0.025381088256835938\n",
      "iter: 79, modularity: 0.5019193238818723, time: 0.17711877822875977\n",
      "iter: 80, modularity: 0.4948569377913254, time: 0.1437852382659912\n",
      "iter: 81, modularity: 0.4859820809341782, time: 0.1743631362915039\n",
      "iter: 82, modularity: 0.48420791600135454, time: 0.021517515182495117\n",
      "iter: 83, modularity: 0.48227851163690877, time: 0.020609140396118164\n",
      "iter: 84, modularity: 0.4803349945968611, time: 0.02093982696533203\n",
      "iter: 85, modularity: 0.4784076063289299, time: 0.020726442337036133\n",
      "iter: 86, modularity: 0.4764842502540279, time: 0.020738601684570312\n",
      "iter: 87, modularity: 0.47455484588958213, time: 0.02048516273498535\n",
      "iter: 88, modularity: 0.4673936710698211, time: 0.09389662742614746\n",
      "iter: 89, modularity: 0.4633755907162785, time: 0.056242942810058594\n",
      "iter: 90, modularity: 0.46148247608909504, time: 0.020059823989868164\n",
      "iter: 91, modularity: 0.45955105562813475, time: 0.01994037628173828\n",
      "iter: 92, modularity: 0.45758132933339757, time: 0.01984882354736328\n",
      "iter: 93, modularity: 0.4500330639828387, time: 0.07252717018127441\n",
      "iter: 94, modularity: 0.4439565490879177, time: 0.07077479362487793\n",
      "iter: 95, modularity: 0.44206141836421964, time: 0.01947164535522461\n",
      "iter: 96, modularity: 0.4401279818067448, time: 0.01926565170288086\n",
      "iter: 97, modularity: 0.4381380945468619, time: 0.019357681274414062\n",
      "iter: 98, modularity: 0.43616635215561017, time: 0.01934194564819336\n",
      "iter: 99, modularity: 0.4341724327026981, time: 0.019006729125976562\n",
      "iter: 100, modularity: 0.42767253753971685, time: 0.0684049129486084\n",
      "iter: 101, modularity: 0.4215052983016401, time: 0.06935882568359375\n",
      "iter: 102, modularity: 0.4196081514814275, time: 0.019191980361938477\n",
      "iter: 103, modularity: 0.4176606022483506, time: 0.01870441436767578\n",
      "iter: 104, modularity: 0.41568281156755515, time: 0.018637895584106445\n",
      "iter: 105, modularity: 0.41190867889227567, time: 0.03502798080444336\n",
      "iter: 106, modularity: 0.4099248399219365, time: 0.018900394439697266\n",
      "iter: 107, modularity: 0.40795108143417025, time: 0.018992900848388672\n",
      "iter: 108, modularity: 0.40595716198125814, time: 0.01860499382019043\n",
      "iter: 109, modularity: 0.4039692908178898, time: 0.018593311309814453\n",
      "iter: 110, modularity: 0.4019713391719486, time: 0.018656253814697266\n",
      "iter: 111, modularity: 0.39997540362252204, time: 0.018980979919433594\n",
      "iter: 112, modularity: 0.3980076934242994, time: 0.019399166107177734\n",
      "iter: 113, modularity: 0.39414082030934966, time: 0.0384678840637207\n",
      "iter: 114, modularity: 0.38828607603103155, time: 0.0879368782043457\n",
      "iter: 115, modularity: 0.3844333155916838, time: 0.0358889102935791\n",
      "iter: 116, modularity: 0.3805583780906758, time: 0.03551650047302246\n",
      "iter: 117, modularity: 0.3728609215980385, time: 0.11994218826293945\n",
      "iter: 118, modularity: 0.3709617586813114, time: 0.026254653930664062\n",
      "iter: 119, modularity: 0.36898195190400135, time: 0.04146075248718262\n",
      "iter: 120, modularity: 0.366994080740633, time: 0.032866477966308594\n",
      "iter: 121, modularity: 0.36501024177029384, time: 0.018354415893554688\n",
      "iter: 122, modularity: 0.36305462815115863, time: 0.018688678741455078\n",
      "iter: 123, modularity: 0.3610768374703631, time: 0.018410205841064453\n",
      "iter: 124, modularity: 0.3590909824035094, time: 0.018208026885986328\n",
      "iter: 125, modularity: 0.3570950468540828, time: 0.018149137496948242\n",
      "iter: 126, modularity: 0.3551071756907144, time: 0.020015478134155273\n",
      "iter: 127, modularity: 0.3531072079482587, time: 0.01905655860900879\n",
      "iter: 128, modularity: 0.3511132884953466, time: 0.018940448760986328\n",
      "iter: 129, modularity: 0.34911533684940543, time: 0.018107891082763672\n",
      "iter: 130, modularity: 0.34520007741810593, time: 0.03437924385070801\n",
      "iter: 131, modularity: 0.34319809357913555, time: 0.04923701286315918\n",
      "iter: 132, modularity: 0.34120014193319437, time: 0.02370595932006836\n",
      "iter: 133, modularity: 0.3334038967113433, time: 0.06485295295715332\n",
      "iter: 134, modularity: 0.3276620538378412, time: 0.05453801155090332\n",
      "iter: 135, modularity: 0.3238516314252995, time: 0.019137859344482422\n",
      "iter: 136, modularity: 0.3184404283801873, time: 0.0191497802734375\n",
      "iter: 137, modularity: 0.3104647505685391, time: 0.04560995101928711\n",
      "iter: 138, modularity: 0.3085635715552974, time: 0.010565757751464844\n",
      "iter: 139, modularity: 0.3048862115127174, time: 0.019179105758666992\n",
      "iter: 140, modularity: 0.29890042096095204, time: 0.05454826354980469\n",
      "iter: 141, modularity: 0.2925819744842823, time: 0.044649362564086914\n",
      "iter: 142, modularity: 0.2864006225706035, time: 0.0477757453918457\n",
      "iter: 143, modularity: 0.2844187996967789, time: 0.01842808723449707\n",
      "iter: 144, modularity: 0.2794108159545812, time: 0.16976451873779297\n",
      "iter: 145, modularity: 0.2761548200835468, time: 0.1386256217956543\n",
      "iter: 146, modularity: 0.27415485234109105, time: 0.01712179183959961\n",
      "iter: 147, modularity: 0.2701629812422378, time: 0.1746969223022461\n",
      "iter: 148, modularity: 0.26817107788584027, time: 0.06534266471862793\n",
      "iter: 149, modularity: 0.266574329446299, time: 0.10312795639038086\n",
      "iter: 150, modularity: 0.26457436170384324, time: 0.018997907638549805\n",
      "iter: 151, modularity: 0.2625703617683583, time: 0.020795345306396484\n",
      "iter: 152, modularity: 0.2605663618328735, time: 0.0192105770111084\n",
      "iter: 153, modularity: 0.2585825228625344, time: 0.018547534942626953\n",
      "iter: 154, modularity: 0.25658255512007866, time: 0.01860809326171875\n",
      "iter: 155, modularity: 0.2545825873776229, time: 0.01984572410583496\n",
      "iter: 156, modularity: 0.25261084498637126, time: 0.018457651138305664\n",
      "iter: 157, modularity: 0.2506068450508864, time: 0.018372058868408203\n",
      "iter: 158, modularity: 0.2467117465847326, time: 0.03280830383300781\n",
      "iter: 159, modularity: 0.24471379493879142, time: 0.018214702606201172\n",
      "iter: 160, modularity: 0.24272189158239393, time: 0.018027782440185547\n",
      "iter: 161, modularity: 0.24072393993645275, time: 0.017568349838256836\n",
      "iter: 162, modularity: 0.23675626199577438, time: 0.03269147872924805\n",
      "iter: 163, modularity: 0.2347663747358915, time: 0.01767730712890625\n",
      "iter: 164, modularity: 0.23276439089692116, time: 0.01721954345703125\n",
      "iter: 165, modularity: 0.23076845534749454, time: 0.017573833465576172\n",
      "iter: 166, modularity: 0.22876848760503876, time: 0.01751089096069336\n",
      "iter: 167, modularity: 0.22304680569668245, time: 0.04749298095703125\n",
      "iter: 168, modularity: 0.21913961065144122, time: 0.032697439193725586\n",
      "iter: 169, modularity: 0.2171436751020146, time: 0.01786518096923828\n",
      "iter: 170, modularity: 0.21514370735955884, time: 0.017945289611816406\n",
      "iter: 171, modularity: 0.21313970742407395, time: 0.017868995666503906\n",
      "iter: 172, modularity: 0.21113369139207447, time: 0.03853201866149902\n",
      "iter: 173, modularity: 0.20912767536007498, time: 0.01802992820739746\n",
      "iter: 174, modularity: 0.20713173981064836, time: 0.021390914916992188\n",
      "iter: 175, modularity: 0.20512572377864888, time: 0.017396926879882812\n",
      "iter: 176, modularity: 0.2031197077466494, time: 0.01763916015625\n",
      "iter: 177, modularity: 0.19721657715198157, time: 0.046172380447387695\n",
      "iter: 178, modularity: 0.19327309236947807, time: 0.03203940391540527\n",
      "iter: 179, modularity: 0.19127917291656601, time: 0.017444372177124023\n",
      "iter: 180, modularity: 0.1892892856566831, time: 0.01815509796142578\n",
      "iter: 181, modularity: 0.18728931791422734, time: 0.017566919326782227\n",
      "iter: 182, modularity: 0.18528330188222786, time: 0.017461776733398438\n",
      "iter: 183, modularity: 0.18133376881018062, time: 0.0318448543548584\n",
      "iter: 184, modularity: 0.16391469492427554, time: 0.20273613929748535\n",
      "iter: 185, modularity: 0.16195504911211123, time: 0.017328262329101562\n",
      "iter: 186, modularity: 0.1561305462815117, time: 0.04480290412902832\n",
      "iter: 187, modularity: 0.15216286834083334, time: 0.03107428550720215\n",
      "iter: 188, modularity: 0.15017298108095042, time: 0.017122507095336914\n",
      "iter: 189, modularity: 0.14619320656118462, time: 0.030588150024414062\n",
      "iter: 190, modularity: 0.1442033193013017, time: 0.017061233520507812\n",
      "iter: 191, modularity: 0.1422134320414188, time: 0.01704883575439453\n",
      "iter: 192, modularity: 0.14020741600941933, time: 0.017164230346679688\n",
      "iter: 193, modularity: 0.1221754487830842, time: 0.41173696517944336\n",
      "iter: 194, modularity: 0.10282092224318969, time: 0.1801917552947998\n",
      "iter: 195, modularity: 0.08507927291495303, time: 0.16476202011108398\n",
      "iter: 196, modularity: 0.08124062515120728, time: 0.031046628952026367\n",
      "iter: 197, modularity: 0.06511185303462855, time: 0.14412760734558105\n",
      "iter: 198, modularity: 0.050595958129707644, time: 0.1541602611541748\n",
      "iter: 199, modularity: 0.03769294043644463, time: 0.13698387145996094\n",
      "iter: 200, modularity: 0.02640279995483948, time: 0.11018037796020508\n",
      "iter: 201, modularity: 0.016725536684892232, time: 0.08733463287353516\n",
      "iter: 202, modularity: 0.008661150626602845, time: 0.24575304985046387\n",
      "iter: 203, modularity: 0.00220964177997134, time: 0.08340215682983398\n",
      "iter: 204, modularity: -0.0026289898550022907, time: 0.04365372657775879\n",
      "iter: 205, modularity: -0.005854744278318041, time: 0.04195880889892578\n",
      "iter: 206, modularity: -0.007467621489975916, time: 0.04923272132873535\n",
      "iter: 207, modularity: -0.009443396074256814, time: 0.03948187828063965\n",
      "iter: 208, modularity: -0.011449412106256296, time: 0.04484272003173828\n",
      "iter: 209, modularity: -0.013455428138255779, time: 0.014905214309692383\n",
      "no more communities\n"
     ]
    }
   ],
   "source": [
    "G_clone = G.copy()\n",
    "comp = girvan_newman(G_clone)\n",
    "iter = 0\n",
    "max_modularity = -1 \n",
    "max_modularity_communities = None\n",
    "while True:\n",
    "    iter += 1 \n",
    "    start = time.time()\n",
    "    try:\n",
    "        communities = next(comp)\n",
    "    except:\n",
    "        print('no more communities')\n",
    "        break\n",
    "    modularity = nx.algorithms.community.modularity(G_clone, communities)   \n",
    "    if modularity > max_modularity:\n",
    "        max_modularity = modularity\n",
    "        max_modularity_communities = communities\n",
    "    print(f'iter: {iter}, modularity: {modularity}, time: {time.time() - start}')"
   ]
  },
  {
   "cell_type": "code",
   "execution_count": 12,
   "metadata": {},
   "outputs": [
    {
     "data": {
      "text/plain": [
       "0.6872550442734795"
      ]
     },
     "execution_count": 12,
     "metadata": {},
     "output_type": "execute_result"
    }
   ],
   "source": [
    "max_modularity"
   ]
  },
  {
   "cell_type": "code",
   "execution_count": 14,
   "metadata": {},
   "outputs": [
    {
     "data": {
      "text/plain": [
       "{'Si3aMsOVGSVlsc54iuiPwA', 'd5WLqmTMvmL7-RmUDVKqqQ'}"
      ]
     },
     "execution_count": 14,
     "metadata": {},
     "output_type": "execute_result"
    }
   ],
   "source": [
    "result = sorted(max_modularity_communities, key=lambda x: len(x), reverse=False)\n",
    "result[0]"
   ]
  },
  {
   "cell_type": "code",
   "execution_count": 15,
   "metadata": {},
   "outputs": [
    {
     "data": {
      "text/plain": [
       "19"
      ]
     },
     "execution_count": 15,
     "metadata": {},
     "output_type": "execute_result"
    }
   ],
   "source": [
    "len(result)"
   ]
  },
  {
   "cell_type": "code",
   "execution_count": 68,
   "metadata": {},
   "outputs": [
    {
     "name": "stdout",
     "output_type": "stream",
     "text": [
      "Si3aMsOVGSVlsc54iuiPwA, d5WLqmTMvmL7-RmUDVKqqQ\n",
      "_m1ot2zZetDgjerAD2Sidg, vENR70IrUsDNTDebbuxyQA\n",
      "23y0Nv9FFWn_3UWudpnFMA, eqWEgMH-DCP74i82BEAZzw\n",
      "gUu0uaiU7UEUVIgCdnqPVQ, jJDUCuPwVqwjbth3s92whA\n",
      "F47atsRPw-KHmRVk5exBFw, JeOHA8tW7gr-FDYOcPJoeA\n",
      "3Vd_ATdvvuVVgn_YCpz8fw, jSbXY_rno4hYHQCFftsWXg\n",
      "453V8MlGr8y61PpsDAFjKQ, gH0dJQhyKUOVCKQA6sqAnw\n",
      "46HhzhpBfTdTSB5ceTx_Og, YVQFzWm0H72mLUh-8gzd5w\n",
      "9W73B44Iw8WslrTNB2CdCg, UmTMCfPlhA6kJLAsLycSfg, Uo5dPwoDpYBzOnmUnjxJ6A\n",
      "98rLDXbloLXekGjieuQSlA, MJ0Wphhko2-LbJ0uZ5XyQA, QYKexxaOJQlseGWmc6soRg\n"
     ]
    }
   ],
   "source": [
    "with open('girvan_newman.txt', 'w') as f:\n",
    "    for item in result:\n",
    "        f.write(', '.join(sorted(list(item))))\n",
    "        f.write('\\n')\n",
    "    f.close()\n",
    "!head girvan_newman.txt"
   ]
  },
  {
   "cell_type": "code",
   "execution_count": 70,
   "metadata": {},
   "outputs": [
    {
     "name": "stdout",
     "output_type": "stream",
     "text": [
      "98rLDXbloLXekGjieuQSlA, MJ0Wphhko2-LbJ0uZ5XyQA, QYKexxaOJQlseGWmc6soRg\n",
      "Gr-MqCunME2K_KmsAwjpTA, QRsuZ_LqrRU65dTs5CL4Lw, _6Zg4ukwS0kst9UtkfVw3w, lJFBgSAccsMGwIjfD7LMeQ\n",
      "CLbpPUqP6XpeAfoqScGaJQ, drTMOo4p8nL0pnMNEyat2A, tX0r-C9BaHYEolRUfufTsQ, xhlcoVm3FOKcxZ0phkdO6Q\n",
      "Cf0chERnfd06ltnN45xLNQ, CyrRjt_7iJ8_lSHeH1_TlA, JhFK9D3LYl23Se3x4oPUxA, ZW-XoteNlRuuK-19q1spmw, lL-wNa0TKK6LXrlcVmjYrQ\n",
      "EY8h9IJimXDNbPXVFpYF3A, LiNx18WUre9WFCEQlUhtKA, hilL60vuuh06sMxs6Ckkog, jgoG_hHqnhZvQEoBK0-82w, kwIhn1_cnQeUaLN0CuWWHw, qd16czwFUVHICKF7A4qWsQ\n",
      "2GUjO7NU88cPXpoffYCU8w, 6YmRpoIuiq8I19Q8dHKTHw, 6xi9tBoZ6r_v41u_XFsSnA, BDmxm7aeWFOLT35gSvkmig, H4EQn0rjFuGRgIm6c9NFLg, H5Asta4LpiKmRhSjWaogIg, XrRLaAeV20MRwdSIGjj2SQ, a48HhwcmjFLApZhiax41IA, angEr2YcXmCl20s8WQu32w, e5sdXDOkCf0sIUAivXVluA, frQs7y5qa-X1pvAM0sJe1w\n",
      "1st2ltGKJ00ZcRsev-Ieew, 4ZQq0ozRs-gXSz1z55iIDw, HLY9oDcVBH9D25lU4X_V5Q, Hv_q_ZnSIoZwdcoH0CyV2Q, Ih85YhFRDzOnB09yS__94g, KBoIRjxSW7OWczv8OS9Bew, LaiylSIbrA3aPvOYtl-J4A, Z9a1tDT8fVI75qXYwNhPpw, ZEq0WtRJD9Bl_vYgCsbfOg, e0Jn0ZjqL-dWi7Brs0bbmg, fOut10lknIp64tm3z6UTNg, l-1cva9rA8_ugLrtSdKAqA, oegRUjhGbP62M18WyAL6pQ, wXdrUQg4-VkSZH1FG4Byzw\n",
      "0gZ8E5tBWTEtGEZDuTzhzw, 4ONcRRisDZkbV1cviA7nFw, 9SWtEX1k9AjRg93BAzMCpg, A-U-K9z9oraMH7eBZW1dOA, B7IvZ26ZUdL2jGbYsFVGxQ, BE4fE4R3TaVn8xy4sYYjbg, DgfsJqg_gozVgaeZ5vjllA, EI9ijI9Wh66LrVW-GmWkOg, FyQrUamokaPLDrBxGmzPnA, Gua5GdTlTWJpovtG7Hdtyg, LKP0Yq9T7Ss6oiDZnVtQwQ, LgFDWZTLi1w9OGi5BtKORg, Nf_Jw_W_CwOz5WJ7ApSMxg, ORJnGXXkS9tQBTNyPQJF9A, QUYbGl1DL-9faG150MQ7zA, QvLg2kxqHHahxxOlHlEIZw, S1cjSFKcS5NVc3o1MkfpwA, SVC0CajvmYfH5uAq4JnGvg, SX_SMrddkDU5dySbsZMu9A, WXlxViTwXHPBvhioljN9PQ, YA-caxALI4C-eCiSM97new, ZXyGw3Z1DyhK1sfNtpcyYA, ZZvfGGLnAkSBSUduV7KN-w, ae7zi8F0B6l_JCITh1mXDg, cyuDrrG5eEK-TZI867MUPA, h-ajC_UHD0QAyAzySN6g2A, jnn504CkjtfbYIwBquWmBw, k24kSTpZHUdEd-QYXLy3fQ, k58KNO8Rya-q8njKq8-uBQ, mm9WYrFhiNqvHCyhQKw3Mg, o-t-i7nbT5N_cmkCXs5oDQ, pDNeS1nbkKS7mJmhRQJPig, tcWnoX_IfuDmlDl6o6y3_g\n",
      "0KhRPd66BZGHCtsb9mGh_g, 2k8OVAPxlXHsA5X6EIoQpQ, 2xVrxhQJUBmOyG4ML77XKw, 37HswRimgBEf7_US-c3CDA, 5DgFmyjW6hkBtXtTMKl4tA, 5fQ9P6kbQM_E0dx8DL6JWA, 750rhwO7D_Cul7_GtO9Jsg, 7G8w2SnaC-qDVQ7_GqTxMg, 8oYMqhC5fhqAK_yxRjE7dQ, 903YwVSoAKyzudc8LH_HMA, 9S52XHEyrvOv4OZxU6pCLw, DPtOaWemjBPvFiZJBi0m8A, DjcRgZ0cJbf6-W2TxvFlBA, IuaAfrkirlfzY3f4PkgSmw, JM0GL6Dx4EuZ1mprLk5Gyg, JRqMFKGxx6DnTGZrxwQZaA, JqjAthJThuVYgTh4iWDZ2A, MrsRJa4SWLq8XLU1RtPdlw, MtdSCXtmrSxj_uZOJ5ZycQ, MwpK7PqQX7fgTFM2Pfy61w, NUtVG7jNPLJR2cxMXMH2-A, NlNlyQynkyEU3l7TR3LXdg, PKEzKWv_FktMm2mGPjwd0Q, SsOiVav4V5_NjTl21Lj92w, TZ974xcbw2kqjYxAhDUYVg, UYcmGbelzRa0Q6JqzLoguw, UwV6jBuTR1S9acT6bPTBPw, VdoTNYWuoXo01umgannw8A, WaAOt_eG0_-yLpG3fI--3g, XEqQG61fetXhuEV9RPslIA, Y0-lLNc2Y7gUGXPzSsMueQ, ZA1OT-PIZwz2kdHDA6mShw, Zk95TMXDx0zMUhYq5u8pxw, ajxohdcsKhRGFlEvHZDyTw, cIbbfJEGLB3B-c8Po4AL5g, dzJDCQ5vubQBJTfYTEmcbg, e5kg9bLvlJz-MEUrGjIeVQ, fLnkI1uHtXEsjtF6KoBHbQ, fcWM-oqjgS94yi1INhZa0g, hLVq7VSJBHZwqurwWoCmpg, jcriwcTidug0fK8sgAloHA, m1IVpXClMox1VGw5hO2LhQ, mu4XvWvJOb3XpG1C_CHCWA, nOTl4aPC4tKHK35T3bNauQ, tekHDsd0fskYG3tqu4sHQw, xrvyW1ruKS0uz9RtFewC0Q\n",
      "0FMte0z-repSVWSJ_BaQTg, 0FVcoJko1kfZCrJRfssfIA, 0QREkWHGO8-Z_70qx1BIWw, 1KQi8Ymatd4ySAd4fhSfaw, 23o7tyUGlC6FCDVcyqLeFA, 2XYdguaaZ7dgi6fAlddujg, 2quguRdKBzul3GpRi9e1mA, 39FT2Ui8KUXwmUt6hnwy-g, 4PQhC-zTQ4ACEN0-r39JuQ, 4pc_EyanaC3ARh0MZZyouA, 79yaBDbLASfIdB-C2c8DzA, 7RCz4Ln_FaTvNrdwe251Dg, 7Vfy39A_totC-w70qZi0MA, 97j2wkFU46OOgm6ErRAb7w, 9xM8upr_n9jchUDKxqSGHw, Ams0iLRd0AhZZectGKA8fw, B0ENvYKQdNNr1Izd2r-BAA, BDjiEmXljD2ZHT61Iv9rrQ, CebjpVd3PsofCgotWp60pg, ChshgCKJTdIDg17JKtFuJw, DKolrsBSwMTpTJL22dqJRQ, DkLSyxogCcJXY5DbTZ-f2A, ELfzWgdf64VBLi5z1ECItw, EiwxlbR8fb68lMgEXhcWKA, IXD-jdycm7m34b_Nliy82g, JLv2Dmfj73-I0d9N41tz1A, JteQGisqOf_pklq7GA0Rww, KHjroLTG6Ah8LyItTyB2yw, KLB3wIYUwKDPMbijIE92vg, KgJdBWS3ReP6TVhYWJRKmg, KtE55izPs1ubJn3ofF2IrA, LcCRMIDz1JgshpPGYfLDcA, O9pMFJSPg80YVzpMfNikxw, OoyQYSeYNyRVOmdO3tsxYA, PE8s8ACYABRNANI-T_WmzA, R4l3ONHzGBakKKNo4TN9iQ, S9dDf0JqSMAvusp5f-9bGw, SdXxLZQQnQNUEL1rGMOQ6w, T88y73qdOSutuvzLlhWtqQ, TjsBbWAfwxWEXPxaLNv5SQ, Tk_FWXueutKii3f9yJFsdw, UAB1Zyg6Q0oEpXeYRf5K_g, WoKCLSctS7G2547xKcED-Q, XPAJ2KHkCwBA0vafF-2Zcg, XUEwSGOGARxW-3gPiGJKUg, _Pn-EmWO-pFPFg81ZIEiDw, _VTEyUzzH92X3w-IpGaXVA, ay4M5J28kBUf0odOQct0BA, bE7Yd0jI_P6g27MWEKKalA, bHufZ2OTlC-OUxBDRXxViw, bJguBxPlnTW29tRTAF0nkQ, bSUS0YcvS7UelmHvCzNWBA, bbK1mL-AyYCHZncDQ_4RgA, cm3_8c_NDhPcpwJQ96Aixw, dTeSvET2SR5LDF_J07wJAQ, dW6bAWM1HbPdk_cGS_a2HA, e8uzNcSC5tQMD22GNAQEQA, hd343st7cOIUSfAd5r0U7A, hqmnMdDS-Opjp3BfBJA8qA, j8Dts8irvVBwEhEEae_-wA, jPcrABeWgWlTPi-E0Op_aA, kKTcYPz47sCDH1_ylnE4ZQ, ma6206bmu-a_Ja7Iv-yRCw, mnoe2vwouRADn97dTDkw4A, p9942XebvxZ9ubHm4SXmMQ, qtOCfMTrozmUSHWIcohc6Q, sBqCpEUn0qYdpSF4DbWlAQ, sO6iNKgv_ToVfof-aQWgXg, sdLns7062kz3Ur_b8wgeYw, tAcY4S3vIuNlAoRlCcz5VA, tL2pS5UOmN6aAOi3Z-qFGg, tRZAC_H5RHrjvyvtufcNXQ, voXU5A3FfOcXZ2VNsJ0q4w, waN6iwcphiVEoCews4f4CA, y6jsaAXFstAJkf53R4_y4Q, yCaDISH0R8e5U376zDWTpQ, zBi_JWB5uUdVuz3JLoAxGQ\n"
     ]
    }
   ],
   "source": [
    "!tail girvan_newman.txt"
   ]
  }
 ],
 "metadata": {
  "kernelspec": {
   "display_name": "kaggle",
   "language": "python",
   "name": "python3"
  },
  "language_info": {
   "codemirror_mode": {
    "name": "ipython",
    "version": 3
   },
   "file_extension": ".py",
   "mimetype": "text/x-python",
   "name": "python",
   "nbconvert_exporter": "python",
   "pygments_lexer": "ipython3",
   "version": "3.10.8"
  },
  "orig_nbformat": 4,
  "vscode": {
   "interpreter": {
    "hash": "32cec203cbdc35c8f30d5d72232fdde6f0c511231056dd4327d32bb9830bdedf"
   }
  }
 },
 "nbformat": 4,
 "nbformat_minor": 2
}
