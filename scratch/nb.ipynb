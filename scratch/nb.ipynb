{
 "cells": [
  {
   "attachments": {},
   "cell_type": "markdown",
   "metadata": {},
   "source": [
    "# Constructed Graph"
   ]
  },
  {
   "cell_type": "code",
   "execution_count": 1,
   "metadata": {},
   "outputs": [],
   "source": [
    "from tqdm import tqdm\n",
    "import networkx as nx\n",
    "# from networkx.algorithms.community.centrality import girvan_newman\n",
    "import pandas as pd \n",
    "from itertools import islice\n",
    "# Create a graph from text file \n",
    "# user_id, user_id\n"
   ]
  },
  {
   "cell_type": "code",
   "execution_count": 2,
   "metadata": {},
   "outputs": [],
   "source": [
    "df = pd.read_csv('../data/ub_sample_data.csv')\n",
    "# random_ids = df.user_id.sample(100).unique()\n",
    "# df = df[df.user_id.isin(random_ids)]"
   ]
  },
  {
   "cell_type": "code",
   "execution_count": 3,
   "metadata": {},
   "outputs": [],
   "source": [
    "from graph import UndirectedGraph\n",
    "G = UndirectedGraph()"
   ]
  },
  {
   "cell_type": "code",
   "execution_count": 4,
   "metadata": {},
   "outputs": [
    {
     "name": "stderr",
     "output_type": "stream",
     "text": [
      "100%|██████████| 3374/3374 [00:17<00:00, 189.05it/s]\n"
     ]
    }
   ],
   "source": [
    "usr_ids = df.user_id.unique()\n",
    "business_dict = {}\n",
    "for u in tqdm(usr_ids):\n",
    "    business_u = set(df[df.user_id == u].business_id.unique())\n",
    "    business_dict[u] = business_u"
   ]
  },
  {
   "cell_type": "code",
   "execution_count": 5,
   "metadata": {},
   "outputs": [
    {
     "name": "stderr",
     "output_type": "stream",
     "text": [
      "100%|██████████| 3374/3374 [00:49<00:00, 68.28it/s]\n"
     ]
    }
   ],
   "source": [
    "usr_ids = df.user_id.unique()\n",
    "edge_threshold = 7\n",
    "for u in tqdm(usr_ids):\n",
    "    for v in tqdm(usr_ids, leave=False):\n",
    "        if u != v:\n",
    "            business_u = business_dict[u]\n",
    "            business_v = business_dict[v]\n",
    "            if len(business_u.intersection(business_v)) >= edge_threshold:\n",
    "                G.add_edge(u, v)\n",
    "        else:\n",
    "            # if u == v, business cannot be reviewed by the same user\n",
    "            # G.add_node(u)\n",
    "            pass"
   ]
  },
  {
   "cell_type": "code",
   "execution_count": 6,
   "metadata": {},
   "outputs": [
    {
     "data": {
      "text/plain": [
       "(222, 498)"
      ]
     },
     "execution_count": 6,
     "metadata": {},
     "output_type": "execute_result"
    }
   ],
   "source": [
    "len(G.nodes), len(G.edges)"
   ]
  },
  {
   "attachments": {},
   "cell_type": "markdown",
   "metadata": {},
   "source": [
    "# Caculate betweeness centrality of original graph"
   ]
  },
  {
   "cell_type": "code",
   "execution_count": 7,
   "metadata": {},
   "outputs": [
    {
     "data": {
      "text/plain": [
       "[(('cyuDrrG5eEK-TZI867MUPA', 'l-1cva9rA8_ugLrtSdKAqA'), 0.17259793730381964),\n",
       " (('1st2ltGKJ00ZcRsev-Ieew', 'DKolrsBSwMTpTJL22dqJRQ'), 0.1625081448610863),\n",
       " (('1st2ltGKJ00ZcRsev-Ieew', 'HLY9oDcVBH9D25lU4X_V5Q'), 0.15722962781786312),\n",
       " (('1st2ltGKJ00ZcRsev-Ieew', 'Hv_q_ZnSIoZwdcoH0CyV2Q'), 0.15180791651379885),\n",
       " (('1st2ltGKJ00ZcRsev-Ieew', 'JM0GL6Dx4EuZ1mprLk5Gyg'), 0.14958675546910816)]"
      ]
     },
     "execution_count": 7,
     "metadata": {},
     "output_type": "execute_result"
    }
   ],
   "source": [
    "from measure import edge_betweenness_centrality \n",
    "result = edge_betweenness_centrality(G)\n",
    "result = sorted(result.items(), key=lambda x: x[1], reverse=True)\n",
    "def sort_by_lexicographical_order(edge):\n",
    "    return tuple(sorted(edge))\n",
    "result = [(sort_by_lexicographical_order(edge[0]), edge[1]) for edge in result]\n",
    "result[:5]"
   ]
  },
  {
   "cell_type": "code",
   "execution_count": 8,
   "metadata": {},
   "outputs": [
    {
     "name": "stdout",
     "output_type": "stream",
     "text": [
      "(cyuDrrG5eEK-TZI867MUPA,l-1cva9rA8_ugLrtSdKAqA),0.17259793730381964\n",
      "(1st2ltGKJ00ZcRsev-Ieew,DKolrsBSwMTpTJL22dqJRQ),0.1625081448610863\n",
      "(1st2ltGKJ00ZcRsev-Ieew,HLY9oDcVBH9D25lU4X_V5Q),0.15722962781786312\n",
      "(1st2ltGKJ00ZcRsev-Ieew,Hv_q_ZnSIoZwdcoH0CyV2Q),0.15180791651379885\n",
      "(1st2ltGKJ00ZcRsev-Ieew,JM0GL6Dx4EuZ1mprLk5Gyg),0.14958675546910816\n",
      "(HLY9oDcVBH9D25lU4X_V5Q,l-1cva9rA8_ugLrtSdKAqA),0.1359504300680771\n",
      "(Hv_q_ZnSIoZwdcoH0CyV2Q,l-1cva9rA8_ugLrtSdKAqA),0.13407525172231055\n",
      "(0FVcoJko1kfZCrJRfssfIA,DKolrsBSwMTpTJL22dqJRQ),0.09035984963113673\n",
      "(a48HhwcmjFLApZhiax41IA,o-t-i7nbT5N_cmkCXs5oDQ),0.08026578614813909\n",
      "(A-U-K9z9oraMH7eBZW1dOA,l-1cva9rA8_ugLrtSdKAqA),0.07737148913619502\n"
     ]
    }
   ],
   "source": [
    "with open('edge_betweenness_centrality.txt', 'w') as f:\n",
    "    for item in result:\n",
    "        f.write(f'({item[0][0]},{item[0][1]}),{item[1]}')\n",
    "        f.write('\\n')\n",
    "    f.close()\n",
    "!head edge_betweenness_centrality.txt"
   ]
  },
  {
   "attachments": {},
   "cell_type": "markdown",
   "metadata": {},
   "source": [
    "# Community Detection"
   ]
  },
  {
   "cell_type": "code",
   "execution_count": 9,
   "metadata": {},
   "outputs": [],
   "source": [
    "from modularity import modularity\n",
    "from girvan_newman import girvan_newman"
   ]
  },
  {
   "cell_type": "code",
   "execution_count": 10,
   "metadata": {},
   "outputs": [],
   "source": [
    "import time "
   ]
  },
  {
   "cell_type": "code",
   "execution_count": 11,
   "metadata": {},
   "outputs": [
    {
     "name": "stdout",
     "output_type": "stream",
     "text": [
      "iter: 1, modularity: 0.5287172787535688, time: 0.7249999046325684\n",
      "iter: 2, modularity: 0.6449835486524415, time: 0.8725414276123047\n",
      "iter: 3, modularity: 0.6711625618941633, time: 0.09029436111450195\n",
      "iter: 4, modularity: 0.6768358574861699, time: 0.48787713050842285\n",
      "iter: 5, modularity: 0.7144562184480896, time: 0.08021020889282227\n",
      "iter: 6, modularity: 0.7254076547152466, time: 0.17882871627807617\n",
      "iter: 7, modularity: 0.7344962178029387, time: 0.7171242237091064\n",
      "iter: 8, modularity: 0.7428569700488702, time: 0.16547012329101562\n",
      "iter: 9, modularity: 0.751687472782697, time: 0.2574169635772705\n",
      "iter: 10, modularity: 0.7530422896404896, time: 0.10512614250183105\n",
      "iter: 11, modularity: 0.8010253866873118, time: 1.1608047485351562\n",
      "iter: 12, modularity: 0.8042410606280548, time: 0.1859278678894043\n",
      "iter: 13, modularity: 0.8048035515556204, time: 0.18442344665527344\n",
      "iter: 14, modularity: 0.8054648312124002, time: 0.046543121337890625\n",
      "iter: 15, modularity: 0.8060253060434512, time: 0.0459284782409668\n",
      "iter: 16, modularity: 0.821896017806165, time: 0.4057497978210449\n",
      "iter: 17, modularity: 0.829744681537395, time: 0.20508050918579102\n",
      "iter: 18, modularity: 0.8529781777713267, time: 0.5410482883453369\n",
      "iter: 19, modularity: 0.8534378477766492, time: 0.02370905876159668\n",
      "iter: 20, modularity: 0.8538955016854571, time: 0.032874345779418945\n",
      "iter: 21, modularity: 0.8542100127417304, time: 0.03365373611450195\n",
      "iter: 22, modularity: 0.8546656505540239, time: 0.03459906578063965\n",
      "iter: 23, modularity: 0.8551192722698026, time: 0.0347447395324707\n",
      "iter: 24, modularity: 0.8555708778890668, time: 0.03400778770446777\n",
      "iter: 25, modularity: 0.8557402299962907, time: 0.03522205352783203\n",
      "iter: 26, modularity: 0.8561898195190404, time: 0.03426647186279297\n",
      "iter: 27, modularity: 0.8563571555297499, time: 0.03391861915588379\n",
      "iter: 28, modularity: 0.8568954532991406, time: 0.03396010398864746\n",
      "iter: 29, modularity: 0.8570607732133355, time: 0.03383684158325195\n",
      "iter: 30, modularity: 0.8576958436154258, time: 0.055275678634643555\n",
      "iter: 31, modularity: 0.8578591474331063, time: 0.03852272033691406\n",
      "iter: 32, modularity: 0.8581776906824088, time: 0.039618492126464844\n",
      "iter: 33, modularity: 0.8585970387574396, time: 0.0390474796295166\n",
      "iter: 34, modularity: 0.8594317027144726, time: 0.11213040351867676\n",
      "iter: 35, modularity: 0.8598913727197951, time: 0.04143977165222168\n",
      "iter: 36, modularity: 0.8670323865744104, time: 0.21187305450439453\n",
      "iter: 37, modularity: 0.8673307688585671, time: 0.039093732833862305\n",
      "iter: 38, modularity: 0.8674779439041309, time: 0.03889656066894531\n",
      "iter: 39, modularity: 0.8676231028531801, time: 0.03833913803100586\n",
      "iter: 40, modularity: 0.8689537265527978, time: 0.06059575080871582\n",
      "iter: 41, modularity: 0.8702662053837844, time: 0.06271028518676758\n",
      "iter: 42, modularity: 0.870409348236319, time: 0.03843379020690918\n",
      "iter: 43, modularity: 0.8705504749923391, time: 0.03790616989135742\n",
      "iter: 44, modularity: 0.8718448089546945, time: 0.06072187423706055\n",
      "iter: 45, modularity: 0.8719637586490543, time: 0.03737354278564453\n",
      "iter: 46, modularity: 0.8721028693085597, time: 0.03649163246154785\n",
      "iter: 47, modularity: 0.8722198029064049, time: 0.03643608093261719\n",
      "iter: 48, modularity: 0.8723568974693958, time: 0.03517723083496094\n",
      "iter: 49, modularity: 0.8726230222093194, time: 0.020574331283569336\n",
      "iter: 50, modularity: 0.8743165432815602, time: 0.05716109275817871\n",
      "iter: 51, modularity: 0.8755685392171096, time: 0.060651302337646484\n",
      "iter: 52, modularity: 0.8756572474637507, time: 0.03690671920776367\n",
      "iter: 53, modularity: 0.875788293737198, time: 0.02116847038269043\n",
      "iter: 54, modularity: 0.8758568410186934, time: 0.020917654037475586\n",
      "iter: 55, modularity: 0.8770906920856117, time: 0.03273725509643555\n",
      "iter: 56, modularity: 0.8781027725359271, time: 0.05366969108581543\n",
      "iter: 57, modularity: 0.8781894646860536, time: 0.03281736373901367\n",
      "iter: 58, modularity: 0.8782862373187531, time: 0.0312809944152832\n",
      "iter: 59, modularity: 0.8784152674956857, time: 0.032948970794677734\n",
      "iter: 60, modularity: 0.8804071708520831, time: 0.0600588321685791\n",
      "iter: 61, modularity: 0.880473702037064, time: 0.0397796630859375\n",
      "iter: 62, modularity: 0.8805583780906759, time: 0.03926563262939453\n",
      "iter: 63, modularity: 0.8807236980048709, time: 0.03948807716369629\n",
      "iter: 64, modularity: 0.880850712085289, time: 0.03916501998901367\n",
      "iter: 65, modularity: 0.8809817583587362, time: 0.0395359992980957\n",
      "iter: 66, modularity: 0.8810462734472024, time: 0.04083728790283203\n",
      "iter: 67, modularity: 0.8830059192593668, time: 0.08572864532470703\n",
      "iter: 68, modularity: 0.8858728085030886, time: 0.07653045654296875\n",
      "iter: 69, modularity: 0.8891187238915501, time: 0.03380227088928223\n",
      "iter: 70, modularity: 0.890523943162207, time: 0.062204837799072266\n",
      "iter: 71, modularity: 0.8906045870227899, time: 0.027125835418701172\n",
      "iter: 72, modularity: 0.8906489411461105, time: 0.03511500358581543\n",
      "iter: 73, modularity: 0.8907316011032079, time: 0.137833833694458\n",
      "iter: 74, modularity: 0.8908565990871115, time: 0.18523049354553223\n",
      "iter: 75, modularity: 0.8943948484701859, time: 0.21600794792175293\n",
      "iter: 76, modularity: 0.8970480314833632, time: 0.07080483436584473\n",
      "iter: 77, modularity: 0.897110530475315, time: 0.0482792854309082\n",
      "iter: 78, modularity: 0.8971952065289269, time: 0.0348050594329834\n",
      "iter: 79, modularity: 0.8972375445557329, time: 0.03453993797302246\n",
      "iter: 80, modularity: 0.8973020596441993, time: 0.03535103797912598\n",
      "iter: 81, modularity: 0.897459315172336, time: 0.03461742401123047\n",
      "iter: 82, modularity: 0.8975379429364043, time: 0.0364995002746582\n",
      "iter: 83, modularity: 0.8976609248237932, time: 0.037507057189941406\n",
      "iter: 84, modularity: 0.8977214077192304, time: 0.035414695739746094\n",
      "iter: 85, modularity: 0.8981387396977468, time: 0.07091832160949707\n",
      "iter: 86, modularity: 0.8981790616280382, time: 0.0363011360168457\n",
      "iter: 87, modularity: 0.8982556732955921, time: 0.035817623138427734\n",
      "iter: 88, modularity: 0.8984935726843114, time: 0.035550832748413086\n",
      "iter: 89, modularity: 0.9010479669682746, time: 0.10437417030334473\n",
      "iter: 90, modularity: 0.9028221319010984, time: 0.07052087783813477\n",
      "iter: 91, modularity: 0.9028362445767003, time: 0.03524470329284668\n",
      "iter: 92, modularity: 0.9029491459815163, time: 0.0351564884185791\n",
      "iter: 93, modularity: 0.903021725456041, time: 0.035166025161743164\n",
      "iter: 94, modularity: 0.9030398703246721, time: 0.034348487854003906\n",
      "iter: 95, modularity: 0.9031144658957114, time: 0.01897287368774414\n",
      "iter: 96, modularity: 0.9033443008983727, time: 0.02522754669189453\n",
      "iter: 97, modularity: 0.905068063418332, time: 0.1101846694946289\n",
      "iter: 98, modularity: 0.9064148158900663, time: 0.14174580574035645\n",
      "iter: 99, modularity: 0.906572071418203, time: 0.05075359344482422\n",
      "iter: 100, modularity: 0.9066325543136401, time: 0.06673192977905273\n",
      "iter: 101, modularity: 0.906646666989242, time: 0.03505420684814453\n",
      "iter: 102, modularity: 0.9066567474718147, time: 0.03463268280029297\n",
      "iter: 103, modularity: 0.9069390009838548, time: 0.05061459541320801\n",
      "iter: 104, modularity: 0.9069510975629423, time: 0.0345761775970459\n",
      "iter: 105, modularity: 0.9070075482653505, time: 0.03461194038391113\n",
      "iter: 106, modularity: 0.907027709230496, time: 0.035501956939697266\n",
      "iter: 107, modularity: 0.9070519023886711, time: 0.03593897819519043\n",
      "iter: 108, modularity: 0.9070861760294188, time: 0.03471803665161133\n",
      "iter: 109, modularity: 0.9071406106353123, time: 0.034714460372924805\n",
      "iter: 110, modularity: 0.9072535120401283, time: 0.0350337028503418\n",
      "iter: 111, modularity: 0.9110034515572326, time: 0.0818777084350586\n",
      "iter: 112, modularity: 0.911152642699311, time: 0.05153226852416992\n",
      "iter: 113, modularity: 0.9126647150852402, time: 0.08165955543518066\n",
      "iter: 114, modularity: 0.9130598700020965, time: 0.05044078826904297\n",
      "iter: 115, modularity: 0.9132009967581166, time: 0.05033564567565918\n",
      "iter: 116, modularity: 0.9154912823986706, time: 0.0963737964630127\n",
      "iter: 117, modularity: 0.9155053950742728, time: 0.034813642501831055\n",
      "iter: 118, modularity: 0.9155114433638164, time: 0.03484177589416504\n",
      "iter: 119, modularity: 0.9155316043289622, time: 0.03465151786804199\n",
      "iter: 120, modularity: 0.9155416848115351, time: 0.03487563133239746\n",
      "iter: 121, modularity: 0.9155699101627389, time: 0.03466916084289551\n",
      "iter: 122, modularity: 0.9156001516104576, time: 0.03466010093688965\n",
      "iter: 123, modularity: 0.9156848276640697, time: 0.052423715591430664\n",
      "iter: 124, modularity: 0.9156969242431572, time: 0.03421497344970703\n",
      "iter: 125, modularity: 0.9157170852083028, time: 0.03340458869934082\n",
      "iter: 126, modularity: 0.9157392622699632, time: 0.03312945365905762\n",
      "iter: 127, modularity: 0.9158904695085559, time: 0.05128979682922363\n",
      "iter: 128, modularity: 0.9159146626667307, time: 0.03468918800354004\n",
      "iter: 129, modularity: 0.915922727052789, time: 0.035637617111206055\n",
      "iter: 130, modularity: 0.9159489363074784, time: 0.03545117378234863\n",
      "iter: 131, modularity: 0.9159590167900513, time: 0.03593015670776367\n",
      "iter: 132, modularity: 0.9161041757391004, time: 0.035294294357299805\n",
      "iter: 133, modularity: 0.916215061047402, time: 0.03482985496520996\n",
      "iter: 134, modularity: 0.9181202722536728, time: 0.07524275779724121\n",
      "iter: 135, modularity: 0.9186525217335199, time: 0.02817511558532715\n",
      "iter: 136, modularity: 0.9187936484895399, time: 0.02708888053894043\n",
      "iter: 137, modularity: 0.9206000709665968, time: 0.051125526428222656\n",
      "iter: 138, modularity: 0.9266624731859158, time: 0.06015467643737793\n",
      "iter: 139, modularity: 0.9327591490459826, time: 0.38128161430358887\n",
      "iter: 140, modularity: 0.9384606699891932, time: 0.28093481063842773\n",
      "iter: 141, modularity: 0.9437670360155477, time: 0.11221122741699219\n",
      "iter: 142, modularity: 0.9437690521120623, time: 0.01912689208984375\n",
      "iter: 143, modularity: 0.9459706295059753, time: 0.05063962936401367\n",
      "iter: 144, modularity: 0.9508818406154735, time: 0.10331964492797852\n",
      "iter: 145, modularity: 0.9508858728085026, time: 0.019416093826293945\n",
      "iter: 146, modularity: 0.9586438121965769, time: 0.09375905990600586\n",
      "iter: 147, modularity: 0.9609401461266748, time: 0.04283928871154785\n",
      "iter: 148, modularity: 0.9609421622231893, time: 0.019220590591430664\n",
      "iter: 149, modularity: 0.9609784519604517, time: 0.026766061782836914\n",
      "iter: 150, modularity: 0.9610631280140637, time: 0.05661201477050781\n",
      "iter: 151, modularity: 0.9611054660408699, time: 0.04888772964477539\n",
      "iter: 152, modularity: 0.9611256270060157, time: 0.04809713363647461\n",
      "iter: 153, modularity: 0.9611276431025302, time: 0.034839630126953125\n",
      "iter: 154, modularity: 0.9649098401638679, time: 0.14417600631713867\n",
      "iter: 155, modularity: 0.9651316107804708, time: 0.06188082695007324\n",
      "iter: 156, modularity: 0.9652928985016365, time: 0.04833340644836426\n",
      "iter: 157, modularity: 0.9686799406461181, time: 0.12890982627868652\n",
      "iter: 158, modularity: 0.9688130030160796, time: 0.06171560287475586\n",
      "iter: 159, modularity: 0.9689097756487791, time: 0.048330068588256836\n",
      "iter: 160, modularity: 0.9689138078418081, time: 0.034960269927978516\n",
      "iter: 161, modularity: 0.9689218722278664, time: 0.034903526306152344\n",
      "iter: 162, modularity: 0.9691154174932654, time: 0.04916119575500488\n",
      "iter: 163, modularity: 0.9691234818793236, time: 0.03588557243347168\n",
      "iter: 164, modularity: 0.9693593651715288, time: 0.04887986183166504\n",
      "iter: 165, modularity: 0.9693613812680433, time: 0.0359196662902832\n",
      "iter: 166, modularity: 0.9706920049676608, time: 0.061955928802490234\n",
      "iter: 167, modularity: 0.9736838921952862, time: 0.11878776550292969\n",
      "iter: 168, modularity: 0.9737020370639172, time: 0.03533601760864258\n",
      "iter: 169, modularity: 0.9737101014499755, time: 0.036173343658447266\n",
      "iter: 170, modularity: 0.9737121175464899, time: 0.035478830337524414\n",
      "iter: 171, modularity: 0.9737221980290628, time: 0.03588080406188965\n",
      "iter: 172, modularity: 0.976318930339832, time: 0.10430169105529785\n",
      "iter: 173, modularity: 0.9763209464363465, time: 0.035400390625\n",
      "iter: 174, modularity: 0.9778410832083342, time: 0.07458376884460449\n",
      "iter: 175, modularity: 0.9809458718407755, time: 0.15219998359680176\n",
      "iter: 176, modularity: 0.9809499040338046, time: 0.11376214027404785\n",
      "iter: 177, modularity: 0.9810164352187855, time: 0.1491701602935791\n",
      "iter: 178, modularity: 0.9825970548862101, time: 0.05605149269104004\n",
      "iter: 179, modularity: 0.982639392913016, time: 0.02625107765197754\n",
      "iter: 180, modularity: 0.9826998758084534, time: 0.02626323699951172\n",
      "iter: 181, modularity: 0.9827079401945115, time: 0.019631385803222656\n",
      "iter: 182, modularity: 0.98389340494508, time: 0.03353714942932129\n",
      "iter: 183, modularity: 0.9839055015241676, time: 0.01973867416381836\n",
      "iter: 184, modularity: 0.9839216302962841, time: 0.02009272575378418\n",
      "iter: 185, modularity: 0.9839518717440028, time: 0.020394563674926758\n",
      "iter: 186, modularity: 0.9839639683230903, time: 0.01987481117248535\n",
      "iter: 187, modularity: 0.9840123546394401, time: 0.020483732223510742\n",
      "iter: 188, modularity: 0.9840728375348773, time: 0.019642353057861328\n",
      "iter: 189, modularity: 0.9848631473685896, time: 0.026324748992919922\n",
      "iter: 190, modularity: 0.9848752439476771, time: 0.019445180892944336\n",
      "iter: 191, modularity: 0.9848772600441917, time: 0.02154850959777832\n",
      "iter: 192, modularity: 0.9849135497814541, time: 0.024768829345703125\n",
      "iter: 193, modularity: 0.9849155658779685, time: 0.01962757110595703\n",
      "iter: 194, modularity: 0.9849236302640269, time: 0.02593517303466797\n",
      "iter: 195, modularity: 0.9849478234222018, time: 0.03712320327758789\n",
      "iter: 196, modularity: 0.9849720165803766, time: 0.036911964416503906\n",
      "iter: 197, modularity: 0.9849962097385515, time: 0.053330183029174805\n",
      "iter: 198, modularity: 0.9854074934275242, time: 0.06856393814086914\n",
      "iter: 199, modularity: 0.9854800729020489, time: 0.0971372127532959\n",
      "iter: 200, modularity: 0.985705875711681, time: 0.03699946403503418\n",
      "iter: 201, modularity: 0.9858349058886137, time: 0.03567099571228027\n",
      "iter: 202, modularity: 0.9858812761084488, time: 0.03561210632324219\n",
      "iter: 203, modularity: 0.9858913565910216, time: 0.035829782485961914\n",
      "iter: 204, modularity: 0.9861050628215663, time: 0.03589797019958496\n",
      "iter: 205, modularity: 0.9861131272076246, time: 0.03686690330505371\n",
      "iter: 206, modularity: 0.9861191754971683, time: 0.03603196144104004\n",
      "iter: 207, modularity: 0.9861453847518578, time: 0.03572988510131836\n",
      "iter: 208, modularity: 0.9861494169448868, time: 0.03602337837219238\n",
      "iter: 209, modularity: 0.9865445718617429, time: 0.035791635513305664\n",
      "no more communities\n"
     ]
    }
   ],
   "source": [
    "import signal \n",
    "import multiprocessing\n",
    "\n",
    "\n",
    "def handler(signum, frame): \n",
    "    raise IOError(\"Timeout\") \n",
    "\n",
    "G_clone = G.copy()\n",
    "comp = girvan_newman(G_clone)\n",
    "iter = 0\n",
    "max_modularity = -1 \n",
    "max_modularity_communities = None\n",
    "\n",
    "signal.signal(signal.SIGALRM, handler) \n",
    "signal.alarm(30) \n",
    "\n",
    "while True:\n",
    "    timeout = 60\n",
    "    iter += 1\n",
    "    start = time.time()\n",
    "    try:\n",
    "        communities = next(comp)\n",
    "    except:\n",
    "        print('no more communities')\n",
    "        break\n",
    "\n",
    "    modularityScore = modularity(G_clone, communities)\n",
    "    if modularityScore > max_modularity:\n",
    "        max_modularity = modularityScore\n",
    "        max_modularity_communities = communities\n",
    "    print(f'iter: {iter}, modularity: {modularityScore}, time: {time.time() - start}')"
   ]
  },
  {
   "cell_type": "code",
   "execution_count": 12,
   "metadata": {},
   "outputs": [
    {
     "data": {
      "text/plain": [
       "0.9865445718617429"
      ]
     },
     "execution_count": 12,
     "metadata": {},
     "output_type": "execute_result"
    }
   ],
   "source": [
    "max_modularity"
   ]
  },
  {
   "cell_type": "code",
   "execution_count": 13,
   "metadata": {},
   "outputs": [
    {
     "data": {
      "text/plain": [
       "{'39FT2Ui8KUXwmUt6hnwy-g'}"
      ]
     },
     "execution_count": 13,
     "metadata": {},
     "output_type": "execute_result"
    },
    {
     "ename": "",
     "evalue": "",
     "output_type": "error",
     "traceback": [
      "\u001b[1;31mThe Kernel crashed while executing code in the the current cell or a previous cell. Please review the code in the cell(s) to identify a possible cause of the failure. Click <a href='https://aka.ms/vscodeJupyterKernelCrash'>here</a> for more info. View Jupyter <a href='command:jupyter.viewOutput'>log</a> for further details."
     ]
    }
   ],
   "source": [
    "result = sorted(max_modularity_communities, key=lambda x: len(x), reverse=False)\n",
    "result[0]"
   ]
  },
  {
   "cell_type": "code",
   "execution_count": 1,
   "metadata": {},
   "outputs": [
    {
     "ename": "NameError",
     "evalue": "name 'result' is not defined",
     "output_type": "error",
     "traceback": [
      "\u001b[0;31m---------------------------------------------------------------------------\u001b[0m",
      "\u001b[0;31mNameError\u001b[0m                                 Traceback (most recent call last)",
      "Cell \u001b[0;32mIn[1], line 1\u001b[0m\n\u001b[0;32m----> 1\u001b[0m \u001b[39mlen\u001b[39m(result)\n",
      "\u001b[0;31mNameError\u001b[0m: name 'result' is not defined"
     ]
    }
   ],
   "source": [
    "len(result)"
   ]
  },
  {
   "cell_type": "code",
   "execution_count": 16,
   "metadata": {},
   "outputs": [
    {
     "name": "stdout",
     "output_type": "stream",
     "text": [
      "39FT2Ui8KUXwmUt6hnwy-g\n",
      "0FVcoJko1kfZCrJRfssfIA\n",
      "JM0GL6Dx4EuZ1mprLk5Gyg\n",
      "bSUS0YcvS7UelmHvCzNWBA\n",
      "DKolrsBSwMTpTJL22dqJRQ\n",
      "sdLns7062kz3Ur_b8wgeYw\n",
      "_VTEyUzzH92X3w-IpGaXVA\n",
      "qtOCfMTrozmUSHWIcohc6Q\n",
      "zBi_JWB5uUdVuz3JLoAxGQ\n",
      "KLB3wIYUwKDPMbijIE92vg\n"
     ]
    }
   ],
   "source": [
    "with open('girvan_newman.txt', 'w') as f:\n",
    "    for item in result:\n",
    "        f.write(', '.join(sorted(list(item))))\n",
    "        f.write('\\n')\n",
    "    f.close()\n",
    "!head girvan_newman.txt"
   ]
  },
  {
   "cell_type": "code",
   "execution_count": 17,
   "metadata": {},
   "outputs": [
    {
     "name": "stdout",
     "output_type": "stream",
     "text": [
      "ZZvfGGLnAkSBSUduV7KN-w\n",
      "ORJnGXXkS9tQBTNyPQJF9A\n",
      "SVC0CajvmYfH5uAq4JnGvg\n",
      "LgFDWZTLi1w9OGi5BtKORg\n",
      "4ONcRRisDZkbV1cviA7nFw\n",
      "KBoIRjxSW7OWczv8OS9Bew\n",
      "gH0dJQhyKUOVCKQA6sqAnw\n",
      "453V8MlGr8y61PpsDAFjKQ\n",
      "YVQFzWm0H72mLUh-8gzd5w\n",
      "46HhzhpBfTdTSB5ceTx_Og\n"
     ]
    }
   ],
   "source": [
    "!tail girvan_newman.txt"
   ]
  }
 ],
 "metadata": {
  "kernelspec": {
   "display_name": "kaggle",
   "language": "python",
   "name": "python3"
  },
  "language_info": {
   "codemirror_mode": {
    "name": "ipython",
    "version": 3
   },
   "file_extension": ".py",
   "mimetype": "text/x-python",
   "name": "python",
   "nbconvert_exporter": "python",
   "pygments_lexer": "ipython3",
   "version": "3.10.8"
  },
  "orig_nbformat": 4,
  "vscode": {
   "interpreter": {
    "hash": "32cec203cbdc35c8f30d5d72232fdde6f0c511231056dd4327d32bb9830bdedf"
   }
  }
 },
 "nbformat": 4,
 "nbformat_minor": 2
}
